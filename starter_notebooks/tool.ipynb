{
 "cells": [
  {
   "cell_type": "code",
   "execution_count": 3,
   "metadata": {},
   "outputs": [
    {
     "data": {
      "text/plain": [
       "True"
      ]
     },
     "execution_count": 3,
     "metadata": {},
     "output_type": "execute_result"
    }
   ],
   "source": [
    "from typing import Annotated, Literal\n",
    "import os \n",
    "from autogen import ConversableAgent\n",
    "\n",
    "from dotenv import load_dotenv\n",
    "load_dotenv()"
   ]
  },
  {
   "cell_type": "code",
   "execution_count": 5,
   "metadata": {},
   "outputs": [],
   "source": [
    "config_list = [{\n",
    "    \"model\": \"gpt_4o_mini_0513\",\n",
    "    \"base_url\": \"https://aoai-eaom-poc-gpt4o.openai.azure.com/\",\n",
    "    \"api_type\": \"azure\",\n",
    "    \"api_version\": \"2024-04-01-preview\",\n",
    "    \"api_type\": \"azure\",\n",
    "    \"api_key\": os.getenv(\"AZURE_OPENAI_API_KEY\")\n",
    "    }]\n",
    "llm_config = {\"config_list\": config_list, \"temperature\": 0.3,\"cache_seed\": 42, \"timeout\": 120,}"
   ]
  },
  {
   "cell_type": "code",
   "execution_count": 6,
   "metadata": {},
   "outputs": [],
   "source": [
    "Operator = Literal[\"+\", \"-\", \"*\", \"/\"]\n",
    "\n",
    "\n",
    "def calculator(a: int, b: int, operator: Annotated[Operator, \"operator\"]) -> int:\n",
    "    if operator == \"+\":\n",
    "        return a + b\n",
    "    elif operator == \"-\":\n",
    "        return a - b\n",
    "    elif operator == \"*\":\n",
    "        return a * b\n",
    "    elif operator == \"/\":\n",
    "        return int(a / b)\n",
    "    else:\n",
    "        raise ValueError(\"Invalid operator\")"
   ]
  },
  {
   "cell_type": "code",
   "execution_count": 7,
   "metadata": {},
   "outputs": [
    {
     "data": {
      "text/plain": [
       "<function __main__.calculator(a: int, b: int, operator: Annotated[Literal['+', '-', '*', '/'], 'operator']) -> int>"
      ]
     },
     "execution_count": 7,
     "metadata": {},
     "output_type": "execute_result"
    }
   ],
   "source": [
    "# Let's first define the assistant agent that suggests tool calls.\n",
    "assistant = ConversableAgent(\n",
    "    name=\"Assistant\",\n",
    "    system_message=\"You are a helpful AI assistant. \"\n",
    "    \"You can help with simple calculations. \"\n",
    "    \"Return 'TERMINATE' when the task is done.\",\n",
    "    llm_config=llm_config,\n",
    ")\n",
    "\n",
    "# The user proxy agent is used for interacting with the assistant agent\n",
    "# and executes tool calls.\n",
    "user_proxy = ConversableAgent(\n",
    "    name=\"User\",\n",
    "    llm_config=False,\n",
    "    is_termination_msg=lambda msg: msg.get(\"content\") is not None and \"TERMINATE\" in msg[\"content\"],\n",
    "    human_input_mode=\"NEVER\",\n",
    ")\n",
    "\n",
    "# Register the tool signature with the assistant agent.\n",
    "assistant.register_for_llm(name=\"calculator\", description=\"A simple calculator\")(calculator)\n",
    "\n",
    "# Register the tool function with the user proxy agent.\n",
    "user_proxy.register_for_execution(name=\"calculator\")(calculator)"
   ]
  },
  {
   "cell_type": "code",
   "execution_count": 8,
   "metadata": {},
   "outputs": [
    {
     "name": "stdout",
     "output_type": "stream",
     "text": [
      "\u001b[33mUser\u001b[0m (to Assistant):\n",
      "\n",
      "What is (44232 + 13312 / (232 - 32)) * 5?\n",
      "\n",
      "--------------------------------------------------------------------------------\n",
      "\u001b[31m\n",
      ">>>>>>>> USING AUTO REPLY...\u001b[0m\n",
      "\u001b[33mAssistant\u001b[0m (to User):\n",
      "\n",
      "\u001b[32m***** Suggested tool call (call_roa56Dc58Hx261lI3q4aokl4): calculator *****\u001b[0m\n",
      "Arguments: \n",
      "{\"a\": 13312, \"b\": 200, \"operator\": \"/\"}\n",
      "\u001b[32m***************************************************************************\u001b[0m\n",
      "\u001b[32m***** Suggested tool call (call_bhnlJPHY5JklpJD5HmASrZed): calculator *****\u001b[0m\n",
      "Arguments: \n",
      "{\"a\": 232, \"b\": 32, \"operator\": \"-\"}\n",
      "\u001b[32m***************************************************************************\u001b[0m\n",
      "\n",
      "--------------------------------------------------------------------------------\n",
      "\u001b[35m\n",
      ">>>>>>>> EXECUTING FUNCTION calculator...\u001b[0m\n",
      "\u001b[35m\n",
      ">>>>>>>> EXECUTING FUNCTION calculator...\u001b[0m\n",
      "\u001b[33mUser\u001b[0m (to Assistant):\n",
      "\n",
      "\u001b[33mUser\u001b[0m (to Assistant):\n",
      "\n",
      "\u001b[32m***** Response from calling tool (call_roa56Dc58Hx261lI3q4aokl4) *****\u001b[0m\n",
      "66\n",
      "\u001b[32m**********************************************************************\u001b[0m\n",
      "\n",
      "--------------------------------------------------------------------------------\n",
      "\u001b[33mUser\u001b[0m (to Assistant):\n",
      "\n",
      "\u001b[32m***** Response from calling tool (call_bhnlJPHY5JklpJD5HmASrZed) *****\u001b[0m\n",
      "200\n",
      "\u001b[32m**********************************************************************\u001b[0m\n",
      "\n",
      "--------------------------------------------------------------------------------\n",
      "\u001b[31m\n",
      ">>>>>>>> USING AUTO REPLY...\u001b[0m\n",
      "\u001b[33mAssistant\u001b[0m (to User):\n",
      "\n",
      "\u001b[32m***** Suggested tool call (call_2e4xqtK1XE3yTFzY7sTuCzHF): calculator *****\u001b[0m\n",
      "Arguments: \n",
      "{\"a\":44232,\"b\":66,\"operator\":\"+\"}\n",
      "\u001b[32m***************************************************************************\u001b[0m\n",
      "\n",
      "--------------------------------------------------------------------------------\n",
      "\u001b[35m\n",
      ">>>>>>>> EXECUTING FUNCTION calculator...\u001b[0m\n",
      "\u001b[33mUser\u001b[0m (to Assistant):\n",
      "\n",
      "\u001b[33mUser\u001b[0m (to Assistant):\n",
      "\n",
      "\u001b[32m***** Response from calling tool (call_2e4xqtK1XE3yTFzY7sTuCzHF) *****\u001b[0m\n",
      "44298\n",
      "\u001b[32m**********************************************************************\u001b[0m\n",
      "\n",
      "--------------------------------------------------------------------------------\n",
      "\u001b[31m\n",
      ">>>>>>>> USING AUTO REPLY...\u001b[0m\n",
      "\u001b[33mAssistant\u001b[0m (to User):\n",
      "\n",
      "\u001b[32m***** Suggested tool call (call_XsW79D41b51EH5kWWwJuYLth): calculator *****\u001b[0m\n",
      "Arguments: \n",
      "{\"a\":44298,\"b\":5,\"operator\":\"*\"}\n",
      "\u001b[32m***************************************************************************\u001b[0m\n",
      "\n",
      "--------------------------------------------------------------------------------\n",
      "\u001b[35m\n",
      ">>>>>>>> EXECUTING FUNCTION calculator...\u001b[0m\n",
      "\u001b[33mUser\u001b[0m (to Assistant):\n",
      "\n",
      "\u001b[33mUser\u001b[0m (to Assistant):\n",
      "\n",
      "\u001b[32m***** Response from calling tool (call_XsW79D41b51EH5kWWwJuYLth) *****\u001b[0m\n",
      "221490\n",
      "\u001b[32m**********************************************************************\u001b[0m\n",
      "\n",
      "--------------------------------------------------------------------------------\n",
      "\u001b[31m\n",
      ">>>>>>>> USING AUTO REPLY...\u001b[0m\n",
      "\u001b[33mAssistant\u001b[0m (to User):\n",
      "\n",
      "The result of the calculation \\((44232 + \\frac{13312}{(232 - 32)}) * 5\\) is **221490**. \n",
      "\n",
      "TERMINATE\n",
      "\n",
      "--------------------------------------------------------------------------------\n"
     ]
    }
   ],
   "source": [
    "chat_result = user_proxy.initiate_chat(assistant, message=\"What is (44232 + 13312 / (232 - 32)) * 5?\")"
   ]
  },
  {
   "cell_type": "code",
   "execution_count": 11,
   "metadata": {},
   "outputs": [
    {
     "data": {
      "text/plain": [
       "[{'content': 'What is (44232 + 13312 / (232 - 32)) * 5?', 'role': 'assistant'},\n",
       " {'tool_calls': [{'id': 'call_roa56Dc58Hx261lI3q4aokl4',\n",
       "    'function': {'arguments': '{\"a\": 13312, \"b\": 200, \"operator\": \"/\"}',\n",
       "     'name': 'calculator'},\n",
       "    'type': 'function'},\n",
       "   {'id': 'call_bhnlJPHY5JklpJD5HmASrZed',\n",
       "    'function': {'arguments': '{\"a\": 232, \"b\": 32, \"operator\": \"-\"}',\n",
       "     'name': 'calculator'},\n",
       "    'type': 'function'}],\n",
       "  'content': None,\n",
       "  'role': 'assistant'},\n",
       " {'content': '66\\n\\n200',\n",
       "  'tool_responses': [{'tool_call_id': 'call_roa56Dc58Hx261lI3q4aokl4',\n",
       "    'role': 'tool',\n",
       "    'content': '66'},\n",
       "   {'tool_call_id': 'call_bhnlJPHY5JklpJD5HmASrZed',\n",
       "    'role': 'tool',\n",
       "    'content': '200'}],\n",
       "  'role': 'tool'},\n",
       " {'tool_calls': [{'id': 'call_2e4xqtK1XE3yTFzY7sTuCzHF',\n",
       "    'function': {'arguments': '{\"a\":44232,\"b\":66,\"operator\":\"+\"}',\n",
       "     'name': 'calculator'},\n",
       "    'type': 'function'}],\n",
       "  'content': None,\n",
       "  'role': 'assistant'},\n",
       " {'content': '44298',\n",
       "  'tool_responses': [{'tool_call_id': 'call_2e4xqtK1XE3yTFzY7sTuCzHF',\n",
       "    'role': 'tool',\n",
       "    'content': '44298'}],\n",
       "  'role': 'tool'},\n",
       " {'tool_calls': [{'id': 'call_XsW79D41b51EH5kWWwJuYLth',\n",
       "    'function': {'arguments': '{\"a\":44298,\"b\":5,\"operator\":\"*\"}',\n",
       "     'name': 'calculator'},\n",
       "    'type': 'function'}],\n",
       "  'content': None,\n",
       "  'role': 'assistant'},\n",
       " {'content': '221490',\n",
       "  'tool_responses': [{'tool_call_id': 'call_XsW79D41b51EH5kWWwJuYLth',\n",
       "    'role': 'tool',\n",
       "    'content': '221490'}],\n",
       "  'role': 'tool'},\n",
       " {'content': 'The result of the calculation \\\\((44232 + \\\\frac{13312}{(232 - 32)}) * 5\\\\) is **221490**. \\n\\nTERMINATE',\n",
       "  'role': 'user'}]"
      ]
     },
     "execution_count": 11,
     "metadata": {},
     "output_type": "execute_result"
    }
   ],
   "source": [
    "chat_result.chat_history"
   ]
  },
  {
   "cell_type": "code",
   "execution_count": 13,
   "metadata": {},
   "outputs": [
    {
     "data": {
      "text/plain": [
       "[{'type': 'function',\n",
       "  'function': {'description': 'A simple calculator',\n",
       "   'name': 'calculator',\n",
       "   'parameters': {'type': 'object',\n",
       "    'properties': {'a': {'type': 'integer', 'description': 'a'},\n",
       "     'b': {'type': 'integer', 'description': 'b'},\n",
       "     'operator': {'enum': ['+', '-', '*', '/'],\n",
       "      'type': 'string',\n",
       "      'description': 'operator'}},\n",
       "    'required': ['a', 'b', 'operator']}}}]"
      ]
     },
     "execution_count": 13,
     "metadata": {},
     "output_type": "execute_result"
    }
   ],
   "source": [
    "assistant.llm_config[\"tools\"]"
   ]
  },
  {
   "cell_type": "markdown",
   "metadata": {},
   "source": [
    "# Using `Pydantic`"
   ]
  },
  {
   "cell_type": "code",
   "execution_count": 14,
   "metadata": {},
   "outputs": [],
   "source": [
    "from pydantic import BaseModel, Field\n",
    "\n",
    "\n",
    "class CalculatorInput(BaseModel):\n",
    "    a: Annotated[int, Field(description=\"The first number.\")]\n",
    "    b: Annotated[int, Field(description=\"The second number.\")]\n",
    "    operator: Annotated[Operator, Field(description=\"The operator.\")]\n",
    "\n",
    "\n",
    "def calculator(input: Annotated[CalculatorInput, \"Input to the calculator.\"]) -> int:\n",
    "    if input.operator == \"+\":\n",
    "        return input.a + input.b\n",
    "    elif input.operator == \"-\":\n",
    "        return input.a - input.b\n",
    "    elif input.operator == \"*\":\n",
    "        return input.a * input.b\n",
    "    elif input.operator == \"/\":\n",
    "        return int(input.a / input.b)\n",
    "    else:\n",
    "        raise ValueError(\"Invalid operator\")"
   ]
  },
  {
   "cell_type": "code",
   "execution_count": 21,
   "metadata": {},
   "outputs": [
    {
     "data": {
      "text/plain": [
       "{'properties': {'a': {'description': 'The first number.',\n",
       "   'title': 'A',\n",
       "   'type': 'integer'},\n",
       "  'b': {'description': 'The second number.', 'title': 'B', 'type': 'integer'},\n",
       "  'operator': {'description': 'The operator.',\n",
       "   'enum': ['+', '-', '*', '/'],\n",
       "   'title': 'Operator',\n",
       "   'type': 'string'}},\n",
       " 'required': ['a', 'b', 'operator'],\n",
       " 'title': 'CalculatorInput',\n",
       " 'type': 'object'}"
      ]
     },
     "execution_count": 21,
     "metadata": {},
     "output_type": "execute_result"
    }
   ],
   "source": [
    "CalculatorInput.model_json_schema()"
   ]
  },
  {
   "cell_type": "code",
   "execution_count": 22,
   "metadata": {},
   "outputs": [
    {
     "name": "stderr",
     "output_type": "stream",
     "text": [
      "c:\\Users\\AMD\\anaconda3\\envs\\pyautogen_311\\Lib\\site-packages\\autogen\\agentchat\\conversable_agent.py:2490: UserWarning: Function 'calculator' is being overridden.\n",
      "  warnings.warn(f\"Function '{tool_sig['function']['name']}' is being overridden.\", UserWarning)\n",
      "c:\\Users\\AMD\\anaconda3\\envs\\pyautogen_311\\Lib\\site-packages\\autogen\\agentchat\\conversable_agent.py:2409: UserWarning: Function 'calculator' is being overridden.\n",
      "  warnings.warn(f\"Function '{name}' is being overridden.\", UserWarning)\n"
     ]
    },
    {
     "data": {
      "text/plain": [
       "<function __main__.calculator(input: typing.Annotated[__main__.CalculatorInput, 'Input to the calculator.']) -> int>"
      ]
     },
     "execution_count": 22,
     "metadata": {},
     "output_type": "execute_result"
    }
   ],
   "source": [
    "assistant.register_for_llm(name=\"calculator\", description=\"A calculator tool that accepts nested expression as input\")(\n",
    "    calculator\n",
    ")\n",
    "user_proxy.register_for_execution(name=\"calculator\")(calculator)"
   ]
  },
  {
   "cell_type": "code",
   "execution_count": 23,
   "metadata": {},
   "outputs": [
    {
     "data": {
      "text/plain": [
       "[{'type': 'function',\n",
       "  'function': {'description': 'A calculator tool that accepts nested expression as input',\n",
       "   'name': 'calculator',\n",
       "   'parameters': {'type': 'object',\n",
       "    'properties': {'input': {'properties': {'a': {'description': 'The first number.',\n",
       "        'title': 'A',\n",
       "        'type': 'integer'},\n",
       "       'b': {'description': 'The second number.',\n",
       "        'title': 'B',\n",
       "        'type': 'integer'},\n",
       "       'operator': {'description': 'The operator.',\n",
       "        'enum': ['+', '-', '*', '/'],\n",
       "        'title': 'Operator',\n",
       "        'type': 'string'}},\n",
       "      'required': ['a', 'b', 'operator'],\n",
       "      'title': 'CalculatorInput',\n",
       "      'type': 'object',\n",
       "      'description': 'Input to the calculator.'}},\n",
       "    'required': ['input']}}}]"
      ]
     },
     "execution_count": 23,
     "metadata": {},
     "output_type": "execute_result"
    }
   ],
   "source": [
    "assistant.llm_config[\"tools\"]"
   ]
  },
  {
   "cell_type": "code",
   "execution_count": 24,
   "metadata": {},
   "outputs": [
    {
     "name": "stdout",
     "output_type": "stream",
     "text": [
      "\u001b[33mUser\u001b[0m (to Assistant):\n",
      "\n",
      "What is (1423 - 123) / 3 + (32 + 23) * 5?\n",
      "\n",
      "--------------------------------------------------------------------------------\n",
      "\u001b[31m\n",
      ">>>>>>>> USING AUTO REPLY...\u001b[0m\n",
      "\u001b[33mAssistant\u001b[0m (to User):\n",
      "\n",
      "\u001b[32m***** Suggested tool call (call_6XxSXeEsgXZuKzKcEvmPEvZ6): calculator *****\u001b[0m\n",
      "Arguments: \n",
      "{\"input\": {\"a\": 1423, \"b\": 123, \"operator\": \"-\"}}\n",
      "\u001b[32m***************************************************************************\u001b[0m\n",
      "\u001b[32m***** Suggested tool call (call_kyAqDvvM65pMPm86jimxsMhG): calculator *****\u001b[0m\n",
      "Arguments: \n",
      "{\"input\": {\"a\": 32, \"b\": 23, \"operator\": \"+\"}}\n",
      "\u001b[32m***************************************************************************\u001b[0m\n",
      "\n",
      "--------------------------------------------------------------------------------\n",
      "\u001b[35m\n",
      ">>>>>>>> EXECUTING FUNCTION calculator...\u001b[0m\n",
      "\u001b[35m\n",
      ">>>>>>>> EXECUTING FUNCTION calculator...\u001b[0m\n",
      "\u001b[33mUser\u001b[0m (to Assistant):\n",
      "\n",
      "\u001b[33mUser\u001b[0m (to Assistant):\n",
      "\n",
      "\u001b[32m***** Response from calling tool (call_6XxSXeEsgXZuKzKcEvmPEvZ6) *****\u001b[0m\n",
      "1300\n",
      "\u001b[32m**********************************************************************\u001b[0m\n",
      "\n",
      "--------------------------------------------------------------------------------\n",
      "\u001b[33mUser\u001b[0m (to Assistant):\n",
      "\n",
      "\u001b[32m***** Response from calling tool (call_kyAqDvvM65pMPm86jimxsMhG) *****\u001b[0m\n",
      "55\n",
      "\u001b[32m**********************************************************************\u001b[0m\n",
      "\n",
      "--------------------------------------------------------------------------------\n",
      "\u001b[31m\n",
      ">>>>>>>> USING AUTO REPLY...\u001b[0m\n",
      "\u001b[33mAssistant\u001b[0m (to User):\n",
      "\n",
      "\u001b[32m***** Suggested tool call (call_MUk5jKOxEMevAKcMxsZkfNzi): calculator *****\u001b[0m\n",
      "Arguments: \n",
      "{\"input\":{\"a\":1300,\"b\":3,\"operator\":\"/\"}}\n",
      "\u001b[32m***************************************************************************\u001b[0m\n",
      "\n",
      "--------------------------------------------------------------------------------\n",
      "\u001b[35m\n",
      ">>>>>>>> EXECUTING FUNCTION calculator...\u001b[0m\n",
      "\u001b[33mUser\u001b[0m (to Assistant):\n",
      "\n",
      "\u001b[33mUser\u001b[0m (to Assistant):\n",
      "\n",
      "\u001b[32m***** Response from calling tool (call_MUk5jKOxEMevAKcMxsZkfNzi) *****\u001b[0m\n",
      "433\n",
      "\u001b[32m**********************************************************************\u001b[0m\n",
      "\n",
      "--------------------------------------------------------------------------------\n",
      "\u001b[31m\n",
      ">>>>>>>> USING AUTO REPLY...\u001b[0m\n",
      "\u001b[33mAssistant\u001b[0m (to User):\n",
      "\n",
      "\u001b[32m***** Suggested tool call (call_6XxSXeEsgXZuKzKcEvmPEvZ6): calculator *****\u001b[0m\n",
      "Arguments: \n",
      "{\"input\":{\"a\":55,\"b\":5,\"operator\":\"*\"}}\n",
      "\u001b[32m***************************************************************************\u001b[0m\n",
      "\n",
      "--------------------------------------------------------------------------------\n",
      "\u001b[35m\n",
      ">>>>>>>> EXECUTING FUNCTION calculator...\u001b[0m\n",
      "\u001b[33mUser\u001b[0m (to Assistant):\n",
      "\n",
      "\u001b[33mUser\u001b[0m (to Assistant):\n",
      "\n",
      "\u001b[32m***** Response from calling tool (call_6XxSXeEsgXZuKzKcEvmPEvZ6) *****\u001b[0m\n",
      "275\n",
      "\u001b[32m**********************************************************************\u001b[0m\n",
      "\n",
      "--------------------------------------------------------------------------------\n",
      "\u001b[31m\n",
      ">>>>>>>> USING AUTO REPLY...\u001b[0m\n",
      "\u001b[33mAssistant\u001b[0m (to User):\n",
      "\n",
      "\u001b[32m***** Suggested tool call (call_KOvCnnjS0EdOk7FOCMogW1bP): calculator *****\u001b[0m\n",
      "Arguments: \n",
      "{\"input\":{\"a\":433,\"b\":275,\"operator\":\"+\"}}\n",
      "\u001b[32m***************************************************************************\u001b[0m\n",
      "\n",
      "--------------------------------------------------------------------------------\n",
      "\u001b[35m\n",
      ">>>>>>>> EXECUTING FUNCTION calculator...\u001b[0m\n",
      "\u001b[33mUser\u001b[0m (to Assistant):\n",
      "\n",
      "\u001b[33mUser\u001b[0m (to Assistant):\n",
      "\n",
      "\u001b[32m***** Response from calling tool (call_KOvCnnjS0EdOk7FOCMogW1bP) *****\u001b[0m\n",
      "708\n",
      "\u001b[32m**********************************************************************\u001b[0m\n",
      "\n",
      "--------------------------------------------------------------------------------\n",
      "\u001b[31m\n",
      ">>>>>>>> USING AUTO REPLY...\u001b[0m\n",
      "\u001b[33mAssistant\u001b[0m (to User):\n",
      "\n",
      "The result of the expression \\((1423 - 123) / 3 + (32 + 23) * 5\\) is \\(708\\).\n",
      "\n",
      "TERMINATE\n",
      "\n",
      "--------------------------------------------------------------------------------\n"
     ]
    }
   ],
   "source": [
    "chat_result = user_proxy.initiate_chat(assistant, message=\"What is (1423 - 123) / 3 + (32 + 23) * 5?\")"
   ]
  },
  {
   "cell_type": "code",
   "execution_count": null,
   "metadata": {},
   "outputs": [],
   "source": []
  }
 ],
 "metadata": {
  "kernelspec": {
   "display_name": "Python 3",
   "language": "python",
   "name": "python3"
  },
  "language_info": {
   "codemirror_mode": {
    "name": "ipython",
    "version": 3
   },
   "file_extension": ".py",
   "mimetype": "text/x-python",
   "name": "python",
   "nbconvert_exporter": "python",
   "pygments_lexer": "ipython3",
   "version": "3.11.9"
  }
 },
 "nbformat": 4,
 "nbformat_minor": 2
}
