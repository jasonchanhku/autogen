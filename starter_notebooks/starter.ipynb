{
 "cells": [
  {
   "cell_type": "markdown",
   "metadata": {},
   "source": [
    "# Setup Config"
   ]
  },
  {
   "cell_type": "code",
   "execution_count": 1,
   "metadata": {},
   "outputs": [
    {
     "data": {
      "text/plain": [
       "True"
      ]
     },
     "execution_count": 1,
     "metadata": {},
     "output_type": "execute_result"
    }
   ],
   "source": [
    "import os\n",
    "from dotenv import load_dotenv\n",
    "load_dotenv()\n",
    "\n",
    "from autogen import ConversableAgent\n"
   ]
  },
  {
   "cell_type": "code",
   "execution_count": 2,
   "metadata": {},
   "outputs": [],
   "source": [
    "config_list = [{\n",
    "    \"model\": \"gpt_4o_mini_0513\",\n",
    "    \"base_url\": \"https://aoai-eaom-poc-gpt4o.openai.azure.com/\",\n",
    "    \"api_type\": \"azure\",\n",
    "    \"api_version\": \"2024-04-01-preview\",\n",
    "    \"api_type\": \"azure\",\n",
    "    \"api_key\": os.getenv(\"AZURE_OPENAI_API_KEY\")\n",
    "    }]\n",
    "llm_config = {\"config_list\": config_list, \"temperature\": 0.3,\"cache_seed\": 42, \"timeout\": 120,}"
   ]
  },
  {
   "cell_type": "markdown",
   "metadata": {},
   "source": [
    "# Agent to Agent"
   ]
  },
  {
   "cell_type": "code",
   "execution_count": 11,
   "metadata": {},
   "outputs": [
    {
     "name": "stdout",
     "output_type": "stream",
     "text": [
      "A GPU, or Graphics Processing Unit, is a specialized processor designed to accelerate graphics rendering. It handles complex calculations needed for rendering images, videos, and animations, making it essential for gaming, graphic design, and video editing. Unlike CPUs, which are optimized for general tasks, GPUs excel at parallel processing, allowing them to perform many calculations simultaneously. This makes them great not just for graphics but also for tasks like machine learning and scientific simulations.\n"
     ]
    }
   ],
   "source": [
    "\n",
    "presenter = ConversableAgent(\"GPU expert\", system_message = \"You are a GPU expert who knows the ins and outs of this topic. Keep your answers brief and concise and conversational\", llm_config = llm_config, human_input_mode = 'NEVER')\n",
    "\n",
    "reply = presenter.generate_reply(messages=[{\"content\":\"What is a GPU? Explain to me briefly.\", \"role\":\"user\"}])\n",
    "print(reply)"
   ]
  },
  {
   "cell_type": "code",
   "execution_count": 7,
   "metadata": {},
   "outputs": [
    {
     "name": "stdout",
     "output_type": "stream",
     "text": [
      "\u001b[33mquestioner\u001b[0m (to GPU expert):\n",
      "\n",
      "What is a GPU? Explain to me briefly.\n",
      "\n",
      "--------------------------------------------------------------------------------\n",
      "\u001b[33mGPU expert\u001b[0m (to questioner):\n",
      "\n",
      "A GPU, or Graphics Processing Unit, is a specialized processor designed to accelerate the rendering of images and video. Unlike a CPU (Central Processing Unit), which is optimized for general-purpose tasks, a GPU is built to handle parallel processing, making it highly efficient for tasks that involve large amounts of data, such as graphics rendering, simulations, and machine learning.\n",
      "\n",
      "GPUs consist of many smaller cores that can process multiple tasks simultaneously, allowing them to perform complex calculations quickly. They are commonly used in gaming, video editing, and increasingly in artificial intelligence and deep learning applications due to their ability to handle vast amounts of data in parallel.\n",
      "\n",
      "--------------------------------------------------------------------------------\n",
      "\u001b[33mquestioner\u001b[0m (to GPU expert):\n",
      "\n",
      "Got it! So, why do people say GPUs are important for gaming? What do they actually do in that context?\n",
      "\n",
      "--------------------------------------------------------------------------------\n",
      "\u001b[33mGPU expert\u001b[0m (to questioner):\n",
      "\n",
      "GPUs are crucial for gaming because they handle the intensive graphical computations required to render high-quality visuals in real-time. Here’s what they do in that context:\n",
      "\n",
      "1. **Rendering Graphics**: GPUs process and render 3D graphics, including textures, lighting, and shadows, to create immersive environments. They translate game data into images that are displayed on the screen.\n",
      "\n",
      "2. **Frame Rate**: A powerful GPU can produce more frames per second (FPS), leading to smoother gameplay. Higher FPS improves the gaming experience, making it more responsive and visually appealing.\n",
      "\n",
      "3. **Resolution and Detail**: GPUs enable higher resolutions (like 4K) and more detailed graphics settings (like anti-aliasing and high-resolution textures), enhancing the visual fidelity of games.\n",
      "\n",
      "4. **Parallel Processing**: The architecture of GPUs allows them to perform many calculations simultaneously, which is essential for rendering complex scenes and effects, such as particle systems and physics simulations.\n",
      "\n",
      "5. **Real-time Effects**: Modern GPUs support advanced graphical techniques like ray tracing, which simulates realistic lighting and reflections, adding to the overall realism of games.\n",
      "\n",
      "In summary, GPUs are essential for delivering the high-performance graphics that gamers expect, making them a key component in gaming systems.\n",
      "\n",
      "--------------------------------------------------------------------------------\n"
     ]
    }
   ],
   "source": [
    "questioner= ConversableAgent(\"questioner\", system_message = \"You are a human who doesn't know anything about GPUs and asks basic questions about GPUs.\", llm_config = llm_config, human_input_mode = 'NEVER')\n",
    "\n",
    "result= questioner.initiate_chat(presenter, message=\"What is a GPU? Explain to me briefly.\", max_turns=2)"
   ]
  },
  {
   "cell_type": "markdown",
   "metadata": {},
   "source": [
    "## `max_consecutive_auto_replies`"
   ]
  },
  {
   "cell_type": "code",
   "execution_count": 12,
   "metadata": {},
   "outputs": [
    {
     "name": "stdout",
     "output_type": "stream",
     "text": [
      "\u001b[33mquestioner\u001b[0m (to GPU expert):\n",
      "\n",
      "What is a GPU? Explain to me briefly.\n",
      "\n",
      "--------------------------------------------------------------------------------\n",
      "\u001b[33mGPU expert\u001b[0m (to questioner):\n",
      "\n",
      "A GPU, or Graphics Processing Unit, is a specialized processor designed to accelerate graphics rendering. It handles complex calculations needed for rendering images, videos, and animations, making it essential for gaming, graphic design, and video editing. Unlike CPUs, which are optimized for general tasks, GPUs excel at parallel processing, allowing them to perform many calculations simultaneously. This makes them great not just for graphics but also for tasks like machine learning and scientific simulations.\n",
      "\n",
      "--------------------------------------------------------------------------------\n",
      "\u001b[33mquestioner\u001b[0m (to GPU expert):\n",
      "\n",
      "Got it! So, is a GPU the same as a graphics card?\n",
      "\n",
      "--------------------------------------------------------------------------------\n",
      "\u001b[33mGPU expert\u001b[0m (to questioner):\n",
      "\n",
      "Not exactly! A GPU is the chip itself that performs the graphics processing, while a graphics card is the complete hardware unit that includes the GPU, memory, cooling system, and other components. So, the GPU is a part of the graphics card, but the terms are often used interchangeably in casual conversation.\n",
      "\n",
      "--------------------------------------------------------------------------------\n",
      "\u001b[33mquestioner\u001b[0m (to GPU expert):\n",
      "\n",
      "Thanks for clarifying! Why would someone need a GPU instead of just using the one built into their computer?\n",
      "\n",
      "--------------------------------------------------------------------------------\n",
      "\u001b[33mGPU expert\u001b[0m (to questioner):\n",
      "\n",
      "Great question! While integrated GPUs (built into CPUs) are fine for basic tasks like web browsing and office work, dedicated GPUs offer several advantages:\n",
      "\n",
      "1. **Performance**: Dedicated GPUs provide significantly better performance for gaming, 3D rendering, and video editing.\n",
      "\n",
      "2. **Memory**: They have their own VRAM, which is faster and more efficient for handling large textures and complex graphics.\n",
      "\n",
      "3. **Parallel Processing**: Dedicated GPUs excel at parallel tasks, making them ideal for machine learning and scientific computations.\n",
      "\n",
      "4. **Future-Proofing**: A dedicated GPU can handle more demanding applications and games, ensuring better longevity for your system.\n",
      "\n",
      "If you're into gaming, graphic design, or heavy multitasking, a dedicated GPU is definitely worth considering!\n",
      "\n",
      "--------------------------------------------------------------------------------\n"
     ]
    }
   ],
   "source": [
    "questioner= ConversableAgent(\"questioner\", system_message = \"You are a human who doesn't know anything about GPUs and asks basic questions about GPUs.\", llm_config = llm_config, human_input_mode = 'NEVER', max_consecutive_auto_reply = 2)\n",
    "\n",
    "result= questioner.initiate_chat(presenter, message=\"What is a GPU? Explain to me briefly.\")"
   ]
  },
  {
   "cell_type": "markdown",
   "metadata": {},
   "source": [
    "## `is_termination_msg`"
   ]
  },
  {
   "cell_type": "code",
   "execution_count": 15,
   "metadata": {},
   "outputs": [
    {
     "name": "stdout",
     "output_type": "stream",
     "text": [
      "\u001b[33mquestioner\u001b[0m (to GPU expert):\n",
      "\n",
      "What is a GPU? Explain to me briefly and then say the word BYE.\n",
      "\n",
      "--------------------------------------------------------------------------------\n",
      "\u001b[33mGPU expert\u001b[0m (to questioner):\n",
      "\n",
      "A GPU, or Graphics Processing Unit, is a specialized processor designed to accelerate graphics rendering. It handles complex calculations needed for rendering images, videos, and animations, making it essential for gaming, video editing, and machine learning tasks. Unlike a CPU, which is optimized for general tasks, a GPU can process many operations simultaneously, making it highly efficient for parallel processing.\n",
      "\n",
      "BYE!\n",
      "\n",
      "--------------------------------------------------------------------------------\n"
     ]
    }
   ],
   "source": [
    "questioner= ConversableAgent(\"questioner\", system_message = \"You are a human who doesn't know anything about GPUs and asks basic questions about GPUs.\", llm_config = llm_config, human_input_mode = 'NEVER', is_termination_msg=lambda msg: \"bye\" in msg[\"content\"].lower())\n",
    "\n",
    "result= questioner.initiate_chat(presenter, message=\"What is a GPU? Explain to me briefly and then say the word BYE.\")"
   ]
  },
  {
   "cell_type": "markdown",
   "metadata": {},
   "source": [
    "# Agent and Human"
   ]
  },
  {
   "cell_type": "markdown",
   "metadata": {},
   "source": [
    "## ` human_input_mode = 'TERMINATE'`"
   ]
  },
  {
   "cell_type": "code",
   "execution_count": 17,
   "metadata": {},
   "outputs": [
    {
     "name": "stdout",
     "output_type": "stream",
     "text": [
      "\u001b[33mquestioner\u001b[0m (to GPU expert):\n",
      "\n",
      "What is a GPU? Explain to me briefly.\n",
      "\n",
      "--------------------------------------------------------------------------------\n",
      "\u001b[33mGPU expert\u001b[0m (to questioner):\n",
      "\n",
      "A GPU, or Graphics Processing Unit, is a specialized processor designed to accelerate graphics rendering. It handles complex calculations needed for rendering images, videos, and animations, making it essential for gaming, graphic design, and video editing. Unlike CPUs, which are optimized for general tasks, GPUs excel at parallel processing, allowing them to perform many calculations simultaneously. This makes them great not just for graphics but also for tasks like machine learning and scientific simulations.\n",
      "\n",
      "--------------------------------------------------------------------------------\n",
      "\u001b[31m\n",
      ">>>>>>>> USING AUTO REPLY...\u001b[0m\n",
      "\u001b[33mquestioner\u001b[0m (to GPU expert):\n",
      "\n",
      "Got it! So, is a GPU the same as a graphics card?\n",
      "\n",
      "--------------------------------------------------------------------------------\n",
      "\u001b[33mGPU expert\u001b[0m (to questioner):\n",
      "\n",
      "Not exactly! A GPU is the chip itself that performs the graphics processing, while a graphics card is the complete hardware unit that includes the GPU, memory, cooling system, and other components. So, the GPU is a part of the graphics card, but the terms are often used interchangeably in casual conversation.\n",
      "\n",
      "--------------------------------------------------------------------------------\n",
      "\u001b[33mquestioner\u001b[0m (to GPU expert):\n",
      "\n",
      "not bad\n",
      "\n",
      "--------------------------------------------------------------------------------\n",
      "\u001b[33mGPU expert\u001b[0m (to questioner):\n",
      "\n",
      "Thanks! If you have more questions about GPUs or anything else, feel free to ask!\n",
      "\n",
      "--------------------------------------------------------------------------------\n",
      "\u001b[31m\n",
      ">>>>>>>> USING AUTO REPLY...\u001b[0m\n",
      "\u001b[33mquestioner\u001b[0m (to GPU expert):\n",
      "\n",
      "What kind of tasks would I need a GPU for? Are there specific activities where having one is really important?\n",
      "\n",
      "--------------------------------------------------------------------------------\n",
      "\u001b[33mGPU expert\u001b[0m (to questioner):\n",
      "\n",
      "Absolutely! Here are some key tasks where a GPU is important:\n",
      "\n",
      "1. **Gaming**: Modern games require powerful GPUs for smooth graphics and high frame rates.\n",
      "2. **Video Editing**: GPUs accelerate rendering and playback, making editing faster and more efficient.\n",
      "3. **3D Rendering**: Tasks like animation and modeling benefit from the parallel processing power of GPUs.\n",
      "4. **Machine Learning**: Training models is much faster with GPUs due to their ability to handle large datasets simultaneously.\n",
      "5. **Scientific Simulations**: Complex calculations in fields like physics and chemistry can be sped up significantly.\n",
      "6. **Cryptocurrency Mining**: GPUs are often used for mining due to their efficiency in solving complex algorithms.\n",
      "\n",
      "If you’re into any of these activities, a good GPU can make a big difference!\n",
      "\n",
      "--------------------------------------------------------------------------------\n",
      "\u001b[33mquestioner\u001b[0m (to GPU expert):\n",
      "\n",
      "awesome\n",
      "\n",
      "--------------------------------------------------------------------------------\n",
      "\u001b[33mGPU expert\u001b[0m (to questioner):\n",
      "\n",
      "Glad you think so! If you have any more questions or need more info, just let me know!\n",
      "\n",
      "--------------------------------------------------------------------------------\n",
      "\u001b[31m\n",
      ">>>>>>>> USING AUTO REPLY...\u001b[0m\n",
      "\u001b[33mquestioner\u001b[0m (to GPU expert):\n",
      "\n",
      "What should I look for when choosing a GPU? Are there specific features or specs that matter?\n",
      "\n",
      "--------------------------------------------------------------------------------\n",
      "\u001b[33mGPU expert\u001b[0m (to questioner):\n",
      "\n",
      "Definitely! Here are some key features and specs to consider when choosing a GPU:\n",
      "\n",
      "1. **Performance**: Look at benchmarks for gaming or tasks you plan to use it for. Higher performance usually means better frame rates and faster processing.\n",
      "\n",
      "2. **VRAM**: More video memory (e.g., 4GB, 8GB, or more) helps with handling larger textures and higher resolutions.\n",
      "\n",
      "3. **Architecture**: Newer architectures (like NVIDIA's Ampere or AMD's RDNA) typically offer better performance and efficiency.\n",
      "\n",
      "4. **Cooling**: Good cooling solutions (like fans or liquid cooling) help maintain performance and longevity.\n",
      "\n",
      "5. **Power Consumption**: Check the wattage requirements and ensure your power supply can handle it.\n",
      "\n",
      "6. **Connectivity**: Make sure it has the right outputs (HDMI, DisplayPort) for your monitors.\n",
      "\n",
      "7. **Ray Tracing**: If you’re into cutting-edge graphics, look for support for ray tracing, which enhances lighting and shadows.\n",
      "\n",
      "8. **Price-to-Performance Ratio**: Compare prices to ensure you’re getting good value for the performance you need.\n",
      "\n",
      "These factors will help you find a GPU that fits your needs!\n",
      "\n",
      "--------------------------------------------------------------------------------\n",
      "\u001b[31m\n",
      ">>>>>>>> NO HUMAN INPUT RECEIVED.\u001b[0m\n",
      "\u001b[31m\n",
      ">>>>>>>> USING AUTO REPLY...\u001b[0m\n",
      "\u001b[33mquestioner\u001b[0m (to GPU expert):\n",
      "\n",
      "That makes sense! Are there any brands that are particularly good when it comes to GPUs?\n",
      "\n",
      "--------------------------------------------------------------------------------\n",
      "\u001b[33mGPU expert\u001b[0m (to questioner):\n",
      "\n",
      "Yes, several brands are well-regarded in the GPU market:\n",
      "\n",
      "1. **NVIDIA**: Known for high-performance GPUs, especially in gaming and AI. Their GeForce series is very popular.\n",
      "\n",
      "2. **AMD**: Offers competitive GPUs, particularly with their Radeon series. They often provide good value for performance.\n",
      "\n",
      "3. **ASUS**: Known for high-quality cooling solutions and custom designs, particularly in their ROG and TUF series.\n",
      "\n",
      "4. **MSI**: Offers solid performance and cooling, with a focus on gaming-oriented features.\n",
      "\n",
      "5. **Gigabyte**: Known for reliable GPUs with good cooling and overclocking capabilities.\n",
      "\n",
      "6. **EVGA**: Highly regarded for customer service and warranty support, especially for NVIDIA cards.\n",
      "\n",
      "Each brand has its strengths, so it often comes down to personal preference and specific model features!\n",
      "\n",
      "--------------------------------------------------------------------------------\n",
      "\u001b[33mquestioner\u001b[0m (to GPU expert):\n",
      "\n",
      "how about GPUs with only one fan?\n",
      "\n",
      "--------------------------------------------------------------------------------\n",
      "\u001b[33mGPU expert\u001b[0m (to questioner):\n",
      "\n",
      "GPUs with a single fan can be a good choice for specific scenarios:\n",
      "\n",
      "1. **Compact Builds**: They’re great for small form factor cases where space is limited.\n",
      "\n",
      "2. **Lower Power Consumption**: Single-fan designs often consume less power and generate less heat, making them suitable for less demanding tasks.\n",
      "\n",
      "3. **Budget Options**: They can be more affordable, providing decent performance for casual gaming or basic tasks.\n",
      "\n",
      "However, they might struggle with cooling under heavy loads, potentially leading to thermal throttling. If you’re planning on gaming or doing intensive tasks, consider how much cooling you’ll need!\n",
      "\n",
      "--------------------------------------------------------------------------------\n",
      "\u001b[31m\n",
      ">>>>>>>> USING AUTO REPLY...\u001b[0m\n",
      "\u001b[33mquestioner\u001b[0m (to GPU expert):\n",
      "\n",
      "That makes sense! Are there any downsides to using a GPU with only one fan?\n",
      "\n",
      "--------------------------------------------------------------------------------\n",
      "\u001b[33mGPU expert\u001b[0m (to questioner):\n",
      "\n",
      "Yes, there are some downsides to using a GPU with only one fan:\n",
      "\n",
      "1. **Cooling Efficiency**: Single-fan GPUs may not dissipate heat as effectively as dual or triple-fan models, which can lead to higher temperatures and potential thermal throttling during intense workloads.\n",
      "\n",
      "2. **Noise Levels**: While they can be quieter at low loads, a single fan may need to spin faster under load, potentially leading to increased noise.\n",
      "\n",
      "3. **Overclocking Limitations**: If you plan to overclock, a single-fan GPU might not handle the extra heat well, limiting your performance gains.\n",
      "\n",
      "4. **Longevity**: Higher temperatures over time can affect the lifespan of the GPU components.\n",
      "\n",
      "If you’re using it for light tasks or in a compact build, it can work well, but for gaming or heavy workloads, consider a more robust cooling solution!\n",
      "\n",
      "--------------------------------------------------------------------------------\n"
     ]
    }
   ],
   "source": [
    "questioner= ConversableAgent(\"questioner\", system_message = \"You are a human who doesn't know anything about GPUs and asks basic questions about GPUs.\", llm_config = llm_config, human_input_mode = 'TERMINATE', max_consecutive_auto_reply = 1)\n",
    "\n",
    "result= questioner.initiate_chat(presenter, message=\"What is a GPU? Explain to me briefly.\")"
   ]
  },
  {
   "cell_type": "markdown",
   "metadata": {},
   "source": [
    "## ` human_input_mode = 'ALWAYS'`"
   ]
  },
  {
   "cell_type": "code",
   "execution_count": 18,
   "metadata": {},
   "outputs": [
    {
     "name": "stdout",
     "output_type": "stream",
     "text": [
      "\u001b[33mquestioner\u001b[0m (to GPU expert):\n",
      "\n",
      "What is a GPU? Explain to me briefly.\n",
      "\n",
      "--------------------------------------------------------------------------------\n",
      "\u001b[33mGPU expert\u001b[0m (to questioner):\n",
      "\n",
      "A GPU, or Graphics Processing Unit, is a specialized processor designed to accelerate graphics rendering. It handles complex calculations needed for rendering images, videos, and animations, making it essential for gaming, graphic design, and video editing. Unlike CPUs, which are optimized for general tasks, GPUs excel at parallel processing, allowing them to perform many calculations simultaneously. This makes them great not just for graphics but also for tasks like machine learning and scientific simulations.\n",
      "\n",
      "--------------------------------------------------------------------------------\n",
      "\u001b[33mquestioner\u001b[0m (to GPU expert):\n",
      "\n",
      "I see, so how does a PC decide to use a GPU or CPU for certain applications? or does it use both?\n",
      "\n",
      "--------------------------------------------------------------------------------\n",
      "\u001b[33mGPU expert\u001b[0m (to questioner):\n",
      "\n",
      "A PC typically uses both the CPU and GPU, each for tasks they're best suited for. \n",
      "\n",
      "- **CPU (Central Processing Unit)**: Handles general tasks, logic, and control functions. It's great for running the operating system, applications, and tasks that require sequential processing.\n",
      "\n",
      "- **GPU (Graphics Processing Unit)**: Takes over when tasks involve heavy graphics processing or parallel computations, like gaming or video rendering.\n",
      "\n",
      "In many applications, the CPU will manage overall operations and delegate specific tasks to the GPU when needed. Some software can also be optimized to leverage both, using the CPU for logic and the GPU for heavy lifting. The decision on which to use often depends on the software's design and the type of workload.\n",
      "\n",
      "--------------------------------------------------------------------------------\n",
      "\u001b[33mquestioner\u001b[0m (to GPU expert):\n",
      "\n",
      "GPUs seems to have a lot of variation in number of fans from 1, 2 and even 3! why is that so?\n",
      "\n",
      "--------------------------------------------------------------------------------\n",
      "\u001b[33mGPU expert\u001b[0m (to questioner):\n",
      "\n",
      "The number of fans on a GPU is primarily related to cooling efficiency. Here’s why you might see different configurations:\n",
      "\n",
      "1. **Heat Generation**: More powerful GPUs generate more heat. Multiple fans help dissipate this heat more effectively, keeping the GPU within safe operating temperatures.\n",
      "\n",
      "2. **Design and Size**: Larger GPUs often have more space for additional fans, allowing for better airflow and cooling. \n",
      "\n",
      "3. **Cooling Solutions**: Some manufacturers use dual or triple fan designs to enhance cooling performance, especially for overclocked models or those designed for gaming.\n",
      "\n",
      "4. **Noise Levels**: More fans can mean quieter operation. With multiple fans, each can spin slower while still providing adequate cooling, reducing noise.\n",
      "\n",
      "Ultimately, the choice of fan configuration balances cooling performance, noise levels, and the GPU's intended use.\n",
      "\n",
      "--------------------------------------------------------------------------------\n"
     ]
    }
   ],
   "source": [
    "questioner= ConversableAgent(\"questioner\", system_message = \"You are a human who doesn't know anything about GPUs and asks basic questions about GPUs.\", llm_config = llm_config, human_input_mode = 'ALWAYS')\n",
    "\n",
    "result= questioner.initiate_chat(presenter, message=\"What is a GPU? Explain to me briefly.\")"
   ]
  },
  {
   "cell_type": "code",
   "execution_count": null,
   "metadata": {},
   "outputs": [],
   "source": []
  }
 ],
 "metadata": {
  "kernelspec": {
   "display_name": "autogenstudio",
   "language": "python",
   "name": "python3"
  },
  "language_info": {
   "codemirror_mode": {
    "name": "ipython",
    "version": 3
   },
   "file_extension": ".py",
   "mimetype": "text/x-python",
   "name": "python",
   "nbconvert_exporter": "python",
   "pygments_lexer": "ipython3",
   "version": "3.11.9"
  }
 },
 "nbformat": 4,
 "nbformat_minor": 2
}
